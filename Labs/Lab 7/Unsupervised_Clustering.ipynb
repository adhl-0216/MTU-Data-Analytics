{
  "cells": [
    {
      "cell_type": "markdown",
      "id": "46f7481f",
      "metadata": {
        "id": "46f7481f"
      },
      "source": [
        "# Clustering (Unsupervised Learning)\n"
      ]
    },
    {
      "cell_type": "markdown",
      "id": "51ef06ea",
      "metadata": {
        "id": "51ef06ea"
      },
      "source": [
        "## Worked Example\n",
        "Let us take an example. As before, we will want to get some of our required libraries imported before getting to work:"
      ]
    },
    {
      "cell_type": "code",
      "execution_count": 1,
      "id": "66c0d80d",
      "metadata": {
        "id": "66c0d80d"
      },
      "outputs": [],
      "source": [
        "import numpy as np\n",
        "import matplotlib.pyplot as plt\n",
        "# Import style class from matplotlib and use that to apply\n",
        "\n",
        "from matplotlib import style\n",
        "plt.style.use('ggplot')"
      ]
    },
    {
      "cell_type": "markdown",
      "id": "ca65e4ac",
      "metadata": {
        "id": "ca65e4ac"
      },
      "source": [
        "Now, we will take a bunch of data points and cluster them. How, you ask? Using a fantastic algorithm called k-means. In addition to being fantastic, k-means is a simple algorithm. Here is how it works.\n",
        "\n",
        "1. First, we guess or determine the number of clusters (k) we want. If our data points are in n dimensions, the centers of these clusters, or centroids, will also be n-dimensional points. In other words, we will have a total of k n-dimensional points that we will call the centroids. Yes, these are essentially just some random points in that n-dimensional space.\n",
        "2. Now, we assign each of the actual data points to one of these k centroids based on their distances to these centroids. After this step, each data point will be assigned to one of the k clusters.\n",
        "3. Now, we recompute each cluster’s centroid. So, we end up with k centroids again, but these are now adjusted to reflect how the data points are distributed.\n",
        "\n",
        "We keep repeating steps 2 and 3 until we converge. In other words, we cease this iterative process when the centroids of the k clusters are no longer changing. And at that point we have “real” k clusters,with each data point belonging to one of them.\n",
        "Fortunately, with the right package in Python, we do not need to implement all of this from scratch. \n",
        "\n",
        "That right package is sklearn.cluster, which contains implementations for various clustering algorithms, including k-means. Let us import it:"
      ]
    },
    {
      "cell_type": "code",
      "execution_count": 2,
      "id": "403f3cab",
      "metadata": {
        "id": "403f3cab"
      },
      "outputs": [],
      "source": [
        "# Get KMeans class from clustering library available within\n",
        "#scikit-learn\n",
        "from sklearn.cluster import KMeans"
      ]
    },
    {
      "cell_type": "markdown",
      "id": "41463d49",
      "metadata": {
        "id": "41463d49"
      },
      "source": [
        "For this exercise, we are just going to make up some data points in two-dimensional (2D) space (so we can visualize them easily):"
      ]
    },
    {
      "cell_type": "code",
      "execution_count": 3,
      "id": "74c0af72",
      "metadata": {
        "id": "74c0af72"
      },
      "outputs": [],
      "source": [
        "# Define data points on 2D plane using Cartesian coordinates\n",
        "X = np.array([[1, 2],\n",
        "[5, 8],\n",
        "[1.5, 1.8],\n",
        "[8, 8],\n",
        "[1, 0.6],\n",
        "[9, 11]])"
      ]
    },
    {
      "cell_type": "markdown",
      "id": "36d78fcd",
      "metadata": {
        "id": "36d78fcd"
      },
      "source": [
        "Now, we will proceed with clustering as well as visualizing the clusters that k-means algorithm generates:"
      ]
    },
    {
      "cell_type": "code",
      "execution_count": 4,
      "id": "2635d6f4",
      "metadata": {
        "colab": {
          "base_uri": "https://localhost:8080/",
          "height": 421
        },
        "id": "2635d6f4",
        "outputId": "81faf5f8-6869-4906-9bb4-09474a5a393e"
      },
      "outputs": [
        {
          "name": "stderr",
          "output_type": "stream",
          "text": [
            "c:\\ProgramData\\anaconda3\\lib\\site-packages\\sklearn\\cluster\\_kmeans.py:870: FutureWarning: The default value of `n_init` will change from 10 to 'auto' in 1.4. Set the value of `n_init` explicitly to suppress the warning\n",
            "  warnings.warn(\n",
            "c:\\ProgramData\\anaconda3\\lib\\site-packages\\sklearn\\cluster\\_kmeans.py:1382: UserWarning: KMeans is known to have a memory leak on Windows with MKL, when there are less chunks than available threads. You can avoid it by setting the environment variable OMP_NUM_THREADS=1.\n",
            "  warnings.warn(\n"
          ]
        },
        {
          "name": "stdout",
          "output_type": "stream",
          "text": [
            "[[7.33333333 9.        ]\n",
            " [1.16666667 1.46666667]]\n",
            "[1 0 1 0 1 0]\n",
            "Coordinate: [1. 2.] Label: 1\n",
            "Coordinate: [5. 8.] Label: 0\n",
            "Coordinate: [1.5 1.8] Label: 1\n",
            "Coordinate: [8. 8.] Label: 0\n",
            "Coordinate: [1.  0.6] Label: 1\n",
            "Coordinate: [ 9. 11.] Label: 0\n"
          ]
        },
        {
          "data": {
            "image/png": "[encoded data removed]",
            "text/plain": [
              "<Figure size 640x480 with 1 Axes>"
            ]
          },
          "metadata": {},
          "output_type": "display_data"
        }
      ],
      "source": [
        "# Perform clustering using k-means algorithm\n",
        "kmeans = KMeans(n_clusters=2)\n",
        "kmeans.fit(X)\n",
        "# ‘kmeans’ holds the model; extract information about clusters\n",
        "# as represented by their centroids, along with their labels\n",
        "centroids = kmeans.cluster_centers_\n",
        "labels = kmeans.labels_\n",
        "print(centroids)\n",
        "print(labels)\n",
        "# Define a colors array\n",
        "colors = ['g.', 'r.', 'c.', 'y.']\n",
        "# Loop to go through each data point, plotting it on the plane\n",
        "# with a color picked from the above list – one color per cluster\n",
        "for i in range(len(X)):\n",
        "  print('Coordinate:',X[i], 'Label:', labels[i])\n",
        "  plt.plot(X[i][0], X[i][1], colors[labels[i]],\n",
        "  markersize = 10)\n",
        "  # Plot the centroids using “x”\n",
        "  plt.scatter(centroids[:, 0],centroids[:, 1],\n",
        "  marker='x', s=150, linewidths=2, zorder=10)\n",
        "plt.show()"
      ]
    },
    {
      "cell_type": "markdown",
      "id": "58fe4920",
      "metadata": {
        "id": "58fe4920"
      },
      "source": [
        "The plot displays the output. As you can see, there are six points plotted. It is easy to imagine that if we were to look for two clusters, we can have one group at the bottom-left (represented in red) and another group in top-right (represented in green). Here we have used the k-means algorithm, which aims to find k unique clusters where the center of each cluster (centroid) is the mean of the values in that cluster. These clusters are represented using blue “X” symbols.\n",
        "\n",
        "Now let us see what happens if we want three clusters. Change the n_clusters argument (input or parameter) in KMeans function to be 3. And voilà! the plot shows how this algorithm can give us three clusters with the same six data points.\n",
        "\n",
        "You can even try n_clusters=4. So, you see, this is unsupervised learning because the labels or colors of the data points are not known to be able to put them in classes. In fact, we do not even know how many labels or classes there should be, and so we could impose almost as many of those as we like."
      ]
    },
    {
      "cell_type": "markdown",
      "id": "8026d582",
      "metadata": {
        "id": "8026d582"
      },
      "source": [
        "## Question 1\n",
        "For this exercise, you need to work with the breast cancer Coimbra dataset.\n",
        "1. First download the dataset from https://archive.ics.uci.edu/ml/datasets/Breast+Cancer+Coimbra and load the data. The dataset has 10 features including the class labels (1 or 2). Next, you need to round off the Leptin feature values to two decimal places.\n",
        "\n",
        "2. Having done that, use the first nine attributes (dataset minus the class label) to group the data points into two clusters. You can use any clustering algorithm of your choice, but the number of clusters should remain the same. \n",
        "3. Once the clustering is complete, use the class labels to evaluate the accuracy of the clustering algorithm that you chose."
      ]
    },
    {
      "cell_type": "code",
      "execution_count": 7,
      "id": "9a50794f",
      "metadata": {
        "id": "9a50794f"
      },
      "outputs": [
        {
          "data": {
            "text/html": [
              "<div>\n",
              "<style scoped>\n",
              "    .dataframe tbody tr th:only-of-type {\n",
              "        vertical-align: middle;\n",
              "    }\n",
              "\n",
              "    .dataframe tbody tr th {\n",
              "        vertical-align: top;\n",
              "    }\n",
              "\n",
              "    .dataframe thead th {\n",
              "        text-align: right;\n",
              "    }\n",
              "</style>\n",
              "<table border=\"1\" class=\"dataframe\">\n",
              "  <thead>\n",
              "    <tr style=\"text-align: right;\">\n",
              "      <th></th>\n",
              "      <th>Age</th>\n",
              "      <th>BMI</th>\n",
              "      <th>Glucose</th>\n",
              "      <th>Insulin</th>\n",
              "      <th>HOMA</th>\n",
              "      <th>Leptin</th>\n",
              "      <th>Adiponectin</th>\n",
              "      <th>Resistin</th>\n",
              "      <th>MCP.1</th>\n",
              "      <th>Classification</th>\n",
              "    </tr>\n",
              "  </thead>\n",
              "  <tbody>\n",
              "    <tr>\n",
              "      <th>0</th>\n",
              "      <td>48</td>\n",
              "      <td>23.500000</td>\n",
              "      <td>70</td>\n",
              "      <td>2.707</td>\n",
              "      <td>0.467409</td>\n",
              "      <td>8.8071</td>\n",
              "      <td>9.702400</td>\n",
              "      <td>7.99585</td>\n",
              "      <td>417.114</td>\n",
              "      <td>1</td>\n",
              "    </tr>\n",
              "    <tr>\n",
              "      <th>1</th>\n",
              "      <td>83</td>\n",
              "      <td>20.690495</td>\n",
              "      <td>92</td>\n",
              "      <td>3.115</td>\n",
              "      <td>0.706897</td>\n",
              "      <td>8.8438</td>\n",
              "      <td>5.429285</td>\n",
              "      <td>4.06405</td>\n",
              "      <td>468.786</td>\n",
              "      <td>1</td>\n",
              "    </tr>\n",
              "    <tr>\n",
              "      <th>2</th>\n",
              "      <td>82</td>\n",
              "      <td>23.124670</td>\n",
              "      <td>91</td>\n",
              "      <td>4.498</td>\n",
              "      <td>1.009651</td>\n",
              "      <td>17.9393</td>\n",
              "      <td>22.432040</td>\n",
              "      <td>9.27715</td>\n",
              "      <td>554.697</td>\n",
              "      <td>1</td>\n",
              "    </tr>\n",
              "    <tr>\n",
              "      <th>3</th>\n",
              "      <td>68</td>\n",
              "      <td>21.367521</td>\n",
              "      <td>77</td>\n",
              "      <td>3.226</td>\n",
              "      <td>0.612725</td>\n",
              "      <td>9.8827</td>\n",
              "      <td>7.169560</td>\n",
              "      <td>12.76600</td>\n",
              "      <td>928.220</td>\n",
              "      <td>1</td>\n",
              "    </tr>\n",
              "    <tr>\n",
              "      <th>4</th>\n",
              "      <td>86</td>\n",
              "      <td>21.111111</td>\n",
              "      <td>92</td>\n",
              "      <td>3.549</td>\n",
              "      <td>0.805386</td>\n",
              "      <td>6.6994</td>\n",
              "      <td>4.819240</td>\n",
              "      <td>10.57635</td>\n",
              "      <td>773.920</td>\n",
              "      <td>1</td>\n",
              "    </tr>\n",
              "  </tbody>\n",
              "</table>\n",
              "</div>"
            ],
            "text/plain": [
              "   Age        BMI  Glucose  Insulin      HOMA   Leptin  Adiponectin  Resistin  \\\n",
              "0   48  23.500000       70    2.707  0.467409   8.8071     9.702400   7.99585   \n",
              "1   83  20.690495       92    3.115  0.706897   8.8438     5.429285   4.06405   \n",
              "2   82  23.124670       91    4.498  1.009651  17.9393    22.432040   9.27715   \n",
              "3   68  21.367521       77    3.226  0.612725   9.8827     7.169560  12.76600   \n",
              "4   86  21.111111       92    3.549  0.805386   6.6994     4.819240  10.57635   \n",
              "\n",
              "     MCP.1  Classification  \n",
              "0  417.114               1  \n",
              "1  468.786               1  \n",
              "2  554.697               1  \n",
              "3  928.220               1  \n",
              "4  773.920               1  "
            ]
          },
          "execution_count": 7,
          "metadata": {},
          "output_type": "execute_result"
        }
      ],
      "source": [
        "import pandas as pd\n",
        "cancer = pd.read_csv(\"../../Data/Coimbra.csv\")\n",
        "cancer.head()"
      ]
    },
    {
      "cell_type": "code",
      "execution_count": 10,
      "id": "471698e7",
      "metadata": {
        "id": "471698e7"
      },
      "outputs": [
        {
          "data": {
            "text/html": [
              "<div>\n",
              "<style scoped>\n",
              "    .dataframe tbody tr th:only-of-type {\n",
              "        vertical-align: middle;\n",
              "    }\n",
              "\n",
              "    .dataframe tbody tr th {\n",
              "        vertical-align: top;\n",
              "    }\n",
              "\n",
              "    .dataframe thead th {\n",
              "        text-align: right;\n",
              "    }\n",
              "</style>\n",
              "<table border=\"1\" class=\"dataframe\">\n",
              "  <thead>\n",
              "    <tr style=\"text-align: right;\">\n",
              "      <th></th>\n",
              "      <th>Age</th>\n",
              "      <th>BMI</th>\n",
              "      <th>Glucose</th>\n",
              "      <th>Insulin</th>\n",
              "      <th>HOMA</th>\n",
              "      <th>Leptin</th>\n",
              "      <th>Adiponectin</th>\n",
              "      <th>Resistin</th>\n",
              "      <th>MCP.1</th>\n",
              "      <th>Classification</th>\n",
              "    </tr>\n",
              "  </thead>\n",
              "  <tbody>\n",
              "    <tr>\n",
              "      <th>0</th>\n",
              "      <td>48</td>\n",
              "      <td>23.500000</td>\n",
              "      <td>70</td>\n",
              "      <td>2.707</td>\n",
              "      <td>0.467409</td>\n",
              "      <td>8.81</td>\n",
              "      <td>9.702400</td>\n",
              "      <td>7.99585</td>\n",
              "      <td>417.114</td>\n",
              "      <td>1</td>\n",
              "    </tr>\n",
              "    <tr>\n",
              "      <th>1</th>\n",
              "      <td>83</td>\n",
              "      <td>20.690495</td>\n",
              "      <td>92</td>\n",
              "      <td>3.115</td>\n",
              "      <td>0.706897</td>\n",
              "      <td>8.84</td>\n",
              "      <td>5.429285</td>\n",
              "      <td>4.06405</td>\n",
              "      <td>468.786</td>\n",
              "      <td>1</td>\n",
              "    </tr>\n",
              "    <tr>\n",
              "      <th>2</th>\n",
              "      <td>82</td>\n",
              "      <td>23.124670</td>\n",
              "      <td>91</td>\n",
              "      <td>4.498</td>\n",
              "      <td>1.009651</td>\n",
              "      <td>17.94</td>\n",
              "      <td>22.432040</td>\n",
              "      <td>9.27715</td>\n",
              "      <td>554.697</td>\n",
              "      <td>1</td>\n",
              "    </tr>\n",
              "    <tr>\n",
              "      <th>3</th>\n",
              "      <td>68</td>\n",
              "      <td>21.367521</td>\n",
              "      <td>77</td>\n",
              "      <td>3.226</td>\n",
              "      <td>0.612725</td>\n",
              "      <td>9.88</td>\n",
              "      <td>7.169560</td>\n",
              "      <td>12.76600</td>\n",
              "      <td>928.220</td>\n",
              "      <td>1</td>\n",
              "    </tr>\n",
              "    <tr>\n",
              "      <th>4</th>\n",
              "      <td>86</td>\n",
              "      <td>21.111111</td>\n",
              "      <td>92</td>\n",
              "      <td>3.549</td>\n",
              "      <td>0.805386</td>\n",
              "      <td>6.70</td>\n",
              "      <td>4.819240</td>\n",
              "      <td>10.57635</td>\n",
              "      <td>773.920</td>\n",
              "      <td>1</td>\n",
              "    </tr>\n",
              "  </tbody>\n",
              "</table>\n",
              "</div>"
            ],
            "text/plain": [
              "   Age        BMI  Glucose  Insulin      HOMA  Leptin  Adiponectin  Resistin  \\\n",
              "0   48  23.500000       70    2.707  0.467409    8.81     9.702400   7.99585   \n",
              "1   83  20.690495       92    3.115  0.706897    8.84     5.429285   4.06405   \n",
              "2   82  23.124670       91    4.498  1.009651   17.94    22.432040   9.27715   \n",
              "3   68  21.367521       77    3.226  0.612725    9.88     7.169560  12.76600   \n",
              "4   86  21.111111       92    3.549  0.805386    6.70     4.819240  10.57635   \n",
              "\n",
              "     MCP.1  Classification  \n",
              "0  417.114               1  \n",
              "1  468.786               1  \n",
              "2  554.697               1  \n",
              "3  928.220               1  \n",
              "4  773.920               1  "
            ]
          },
          "execution_count": 10,
          "metadata": {},
          "output_type": "execute_result"
        }
      ],
      "source": [
        "cancer['Leptin'] = cancer['Leptin'].round(2)\n",
        "cancer.head()"
      ]
    },
    {
      "cell_type": "code",
      "execution_count": 24,
      "id": "2e18d175",
      "metadata": {},
      "outputs": [
        {
          "data": {
            "text/html": [
              "<div>\n",
              "<style scoped>\n",
              "    .dataframe tbody tr th:only-of-type {\n",
              "        vertical-align: middle;\n",
              "    }\n",
              "\n",
              "    .dataframe tbody tr th {\n",
              "        vertical-align: top;\n",
              "    }\n",
              "\n",
              "    .dataframe thead th {\n",
              "        text-align: right;\n",
              "    }\n",
              "</style>\n",
              "<table border=\"1\" class=\"dataframe\">\n",
              "  <thead>\n",
              "    <tr style=\"text-align: right;\">\n",
              "      <th></th>\n",
              "      <th>Age</th>\n",
              "      <th>BMI</th>\n",
              "      <th>Glucose</th>\n",
              "      <th>Insulin</th>\n",
              "      <th>HOMA</th>\n",
              "      <th>Leptin</th>\n",
              "      <th>Adiponectin</th>\n",
              "      <th>Resistin</th>\n",
              "      <th>MCP.1</th>\n",
              "    </tr>\n",
              "  </thead>\n",
              "  <tbody>\n",
              "    <tr>\n",
              "      <th>0</th>\n",
              "      <td>48</td>\n",
              "      <td>23.500000</td>\n",
              "      <td>70</td>\n",
              "      <td>2.707</td>\n",
              "      <td>0.467409</td>\n",
              "      <td>8.81</td>\n",
              "      <td>9.702400</td>\n",
              "      <td>7.99585</td>\n",
              "      <td>417.114</td>\n",
              "    </tr>\n",
              "    <tr>\n",
              "      <th>1</th>\n",
              "      <td>83</td>\n",
              "      <td>20.690495</td>\n",
              "      <td>92</td>\n",
              "      <td>3.115</td>\n",
              "      <td>0.706897</td>\n",
              "      <td>8.84</td>\n",
              "      <td>5.429285</td>\n",
              "      <td>4.06405</td>\n",
              "      <td>468.786</td>\n",
              "    </tr>\n",
              "    <tr>\n",
              "      <th>2</th>\n",
              "      <td>82</td>\n",
              "      <td>23.124670</td>\n",
              "      <td>91</td>\n",
              "      <td>4.498</td>\n",
              "      <td>1.009651</td>\n",
              "      <td>17.94</td>\n",
              "      <td>22.432040</td>\n",
              "      <td>9.27715</td>\n",
              "      <td>554.697</td>\n",
              "    </tr>\n",
              "    <tr>\n",
              "      <th>3</th>\n",
              "      <td>68</td>\n",
              "      <td>21.367521</td>\n",
              "      <td>77</td>\n",
              "      <td>3.226</td>\n",
              "      <td>0.612725</td>\n",
              "      <td>9.88</td>\n",
              "      <td>7.169560</td>\n",
              "      <td>12.76600</td>\n",
              "      <td>928.220</td>\n",
              "    </tr>\n",
              "    <tr>\n",
              "      <th>4</th>\n",
              "      <td>86</td>\n",
              "      <td>21.111111</td>\n",
              "      <td>92</td>\n",
              "      <td>3.549</td>\n",
              "      <td>0.805386</td>\n",
              "      <td>6.70</td>\n",
              "      <td>4.819240</td>\n",
              "      <td>10.57635</td>\n",
              "      <td>773.920</td>\n",
              "    </tr>\n",
              "  </tbody>\n",
              "</table>\n",
              "</div>"
            ],
            "text/plain": [
              "   Age        BMI  Glucose  Insulin      HOMA  Leptin  Adiponectin  Resistin  \\\n",
              "0   48  23.500000       70    2.707  0.467409    8.81     9.702400   7.99585   \n",
              "1   83  20.690495       92    3.115  0.706897    8.84     5.429285   4.06405   \n",
              "2   82  23.124670       91    4.498  1.009651   17.94    22.432040   9.27715   \n",
              "3   68  21.367521       77    3.226  0.612725    9.88     7.169560  12.76600   \n",
              "4   86  21.111111       92    3.549  0.805386    6.70     4.819240  10.57635   \n",
              "\n",
              "     MCP.1  \n",
              "0  417.114  \n",
              "1  468.786  \n",
              "2  554.697  \n",
              "3  928.220  \n",
              "4  773.920  "
            ]
          },
          "execution_count": 24,
          "metadata": {},
          "output_type": "execute_result"
        }
      ],
      "source": [
        "dataset = cancer.iloc[:,:-1]\n",
        "dataset.head()"
      ]
    },
    {
      "cell_type": "code",
      "execution_count": 42,
      "id": "36b54e84",
      "metadata": {},
      "outputs": [
        {
          "data": {
            "text/html": [
              "<div>\n",
              "<style scoped>\n",
              "    .dataframe tbody tr th:only-of-type {\n",
              "        vertical-align: middle;\n",
              "    }\n",
              "\n",
              "    .dataframe tbody tr th {\n",
              "        vertical-align: top;\n",
              "    }\n",
              "\n",
              "    .dataframe thead th {\n",
              "        text-align: right;\n",
              "    }\n",
              "</style>\n",
              "<table border=\"1\" class=\"dataframe\">\n",
              "  <thead>\n",
              "    <tr style=\"text-align: right;\">\n",
              "      <th></th>\n",
              "      <th>0</th>\n",
              "      <th>1</th>\n",
              "    </tr>\n",
              "  </thead>\n",
              "  <tbody>\n",
              "    <tr>\n",
              "      <th>0</th>\n",
              "      <td>-118.146721</td>\n",
              "      <td>-33.743644</td>\n",
              "    </tr>\n",
              "    <tr>\n",
              "      <th>1</th>\n",
              "      <td>-66.125996</td>\n",
              "      <td>-10.357734</td>\n",
              "    </tr>\n",
              "    <tr>\n",
              "      <th>2</th>\n",
              "      <td>19.768223</td>\n",
              "      <td>-7.545954</td>\n",
              "    </tr>\n",
              "    <tr>\n",
              "      <th>3</th>\n",
              "      <td>393.026666</td>\n",
              "      <td>-31.558217</td>\n",
              "    </tr>\n",
              "    <tr>\n",
              "      <th>4</th>\n",
              "      <td>239.018616</td>\n",
              "      <td>-15.045108</td>\n",
              "    </tr>\n",
              "  </tbody>\n",
              "</table>\n",
              "</div>"
            ],
            "text/plain": [
              "            0          1\n",
              "0 -118.146721 -33.743644\n",
              "1  -66.125996 -10.357734\n",
              "2   19.768223  -7.545954\n",
              "3  393.026666 -31.558217\n",
              "4  239.018616 -15.045108"
            ]
          },
          "execution_count": 42,
          "metadata": {},
          "output_type": "execute_result"
        }
      ],
      "source": [
        "from sklearn.decomposition import PCA\n",
        "pca = PCA(2)\n",
        "pca.fit(dataset)\n",
        " \n",
        "pca_data = pd.DataFrame(pca.transform(dataset))\n",
        " \n",
        "pca_data.head()"
      ]
    },
    {
      "cell_type": "code",
      "execution_count": 60,
      "id": "e8612e29",
      "metadata": {},
      "outputs": [
        {
          "name": "stderr",
          "output_type": "stream",
          "text": [
            "c:\\ProgramData\\anaconda3\\lib\\site-packages\\sklearn\\cluster\\_kmeans.py:1382: UserWarning: KMeans is known to have a memory leak on Windows with MKL, when there are less chunks than available threads. You can avoid it by setting the environment variable OMP_NUM_THREADS=1.\n",
            "  warnings.warn(\n"
          ]
        },
        {
          "name": "stdout",
          "output_type": "stream",
          "text": [
            "[[-2.60834771e+02  3.47186085e+00]\n",
            " [ 1.16453206e+03  2.05446056e+01]\n",
            " [ 9.70967453e+01 -7.01053487e+00]\n",
            " [ 4.71645416e+02  1.10522873e+00]]\n",
            "[0 2 2 3 2 2 3 0 0 0 0 0 0 2 0 0 0 0 0 2 2 2 3 2 3 2 3 3 2 2 3 2 0 3 2 2 2\n",
            " 0 0 2 2 0 0 0 0 0 0 0 0 0 0 2 2 0 2 2 0 0 0 2 0 2 2 0 0 2 2 0 0 0 0 0 2 0\n",
            " 0 2 2 2 1 2 3 0 2 2 3 1 1 3 1 3 2 3 2 2 0 2 0 0 0 0 2 0 0 0 2 2 2 0 0 0 0\n",
            " 0 0 0 0 0]\n"
          ]
        },
        {
          "data": {
            "image/png": "[encoded data removed]",
            "text/plain": [
              "<Figure size 640x480 with 1 Axes>"
            ]
          },
          "metadata": {},
          "output_type": "display_data"
        }
      ],
      "source": [
        "from sklearn.cluster import KMeans\n",
        "\n",
        "kmeans = KMeans(n_clusters=4, n_init=10)\n",
        "kmeans.fit(pca_data)\n",
        "\n",
        "centroids = kmeans.cluster_centers_\n",
        "labels = kmeans.labels_\n",
        "print(centroids)\n",
        "print(labels)\n",
        "\n",
        "# Define a colors array\n",
        "colors = ['g.', 'r.', 'c.', 'y.']\n",
        "# Loop to go through each data point, plotting it on the plane\n",
        "# with a color picked from the above list – one color per cluster\n",
        "for X,y in pca_data.values:\n",
        "  plt.plot(X, y, 'b.',markersize = 10)\n",
        "#   # Plot the centroids using “x”\n",
        "plt.scatter(centroids[:,0],centroids[:, 1],marker='x', s=150, linewidths=2, zorder=10)\n",
        "plt.show()\n"
      ]
    }
  ],
  "metadata": {
    "colab": {
      "provenance": []
    },
    "kernelspec": {
      "display_name": "Python 3 (ipykernel)",
      "language": "python",
      "name": "python3"
    },
    "language_info": {
      "codemirror_mode": {
        "name": "ipython",
        "version": 3
      },
      "file_extension": ".py",
      "mimetype": "text/x-python",
      "name": "python",
      "nbconvert_exporter": "python",
      "pygments_lexer": "ipython3",
      "version": "3.10.9"
    }
  },
  "nbformat": 4,
  "nbformat_minor": 5
}
