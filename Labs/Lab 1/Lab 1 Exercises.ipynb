{
  "cells": [
    {
      "cell_type": "markdown",
      "metadata": {},
      "source": [
        "# Instructions:\n",
        "The objective of these practical exercises is to familiarise yourself with Jupyter or Spyder and write basic Python programs. "
      ]
    },
    {
      "cell_type": "markdown",
      "metadata": {},
      "source": [
        "## Use Python in Script Mode\n",
        "\n",
        "1. Using script mode write a program that will output the text “Hello There” to screen\n",
        "\n",
        "2. Create a String variable to store your name and an int variable to store your age. Print this out to screen using the Script mode. \n",
        "\n",
        "3.\tWrite a program that asks the user to enter a distance in kilometres and then converts that distance to miles (Miles = Kilometres * 0.6214).\n",
        "\n",
        "4.\tWrite a program that will ask a student for their first name and then for their surname. It should then ask the student to enter the int numerical grade they received in each of their three subjects.  The program should then print out the full name of the student along with their average numerical grade (Use only a single print statement)\n",
        "\n",
        "5.\tWrite a program to calculate and display a person’s body mass index (BMI). A persons BMI is calculated with the following formula:\n",
        "\n",
        "    •\tBMI = (weight/ height2  ) * 703 \n",
        "\n",
        "    Where weight in in pounds and height in in inches. Your program should ask the user for their weight (in pounds) and height (in inches). \n",
        "\n",
        "6.\tThere are three seating categories at a stadium. For a football games, Class A seat’s cost €25, Class B seat’s cost €20 and Class C seat’s cost €30. Write a program that asks how many tickets for each class of seats were sold, and then display the amount of income generated from ticket sales."
      ]
    },
    {
      "cell_type": "code",
      "execution_count": 1,
      "metadata": {
        "trusted": true
      },
      "outputs": [
        {
          "name": "stdout",
          "output_type": "stream",
          "text": [
            "Hello There!\n"
          ]
        }
      ],
      "source": [
        "print(\"Hello There!\")"
      ]
    },
    {
      "cell_type": "code",
      "execution_count": 5,
      "metadata": {
        "trusted": true
      },
      "outputs": [
        {
          "name": "stdout",
          "output_type": "stream",
          "text": [
            "Adrian 21\n"
          ]
        }
      ],
      "source": [
        "name = \"Adrian\"\n",
        "age = 21\n",
        "print(name, age)"
      ]
    },
    {
      "cell_type": "code",
      "execution_count": 15,
      "metadata": {
        "trusted": true
      },
      "outputs": [
        {
          "name": "stdout",
          "output_type": "stream",
          "text": [
            "190.00 km is 118.07 miles.\n"
          ]
        }
      ],
      "source": [
        "km = float(input(\"Enter distance in kilometers(km): \"))\n",
        "\n",
        "miles = float(km) * 0.6214\n",
        "\n",
        "print(\"%.2f km is %.2f miles.\"% (km, miles))\n"
      ]
    },
    {
      "cell_type": "code",
      "execution_count": 17,
      "metadata": {
        "trusted": true
      },
      "outputs": [
        {
          "name": "stdout",
          "output_type": "stream",
          "text": [
            "AD HL Average Grade: 3.00\n"
          ]
        }
      ],
      "source": [
        "import numpy as np\n",
        "fname = input(\"First name: \")\n",
        "lname = input(\"Last name: \")\n",
        "avg = 0\n",
        "for i in np.arange(3):\n",
        "    avg+= int(input(\"Enter grade for subject %d: \")%i)\n",
        "\n",
        "print(\"%s %s Average Grade: %.2f\"%(fname, lname, avg/3))"
      ]
    },
    {
      "cell_type": "code",
      "execution_count": 18,
      "metadata": {
        "trusted": true
      },
      "outputs": [
        {
          "name": "stdout",
          "output_type": "stream",
          "text": [
            "20.51612244897959\n"
          ]
        }
      ],
      "source": [
        "weight = float(input(\"Enter weight in pounds(lbs): \"))\n",
        "height = float(input(\"Enter weight in inches(in): \"))\n",
        "\n",
        "BMI = (weight/height**2  ) * 703\n",
        "\n",
        "print(BMI)"
      ]
    },
    {
      "cell_type": "code",
      "execution_count": 22,
      "metadata": {
        "trusted": true
      },
      "outputs": [
        {
          "name": "stdout",
          "output_type": "stream",
          "text": [
            "130\n"
          ]
        }
      ],
      "source": [
        "classSeats = ('A','B','C')\n",
        "totalPrice = 0\n",
        "\n",
        "for seat in classSeats:\n",
        "    tickets = int(input(\"How many Class %c tickets? \"%seat))\n",
        "    if (seat == 'A') : totalPrice+= tickets*25\n",
        "    if (seat == 'B') : totalPrice+= tickets*20\n",
        "    if (seat == 'C') : totalPrice+= tickets*30\n",
        "\n",
        "print(totalPrice)\n"
      ]
    }
  ],
  "metadata": {
    "kernelspec": {
      "display_name": "Python 3",
      "language": "python",
      "name": "python3"
    },
    "language_info": {
      "codemirror_mode": {
        "name": "ipython",
        "version": 3
      },
      "file_extension": ".py",
      "mimetype": "text/x-python",
      "name": "python",
      "nbconvert_exporter": "python",
      "pygments_lexer": "ipython3",
      "version": "3.11.3"
    }
  },
  "nbformat": 4,
  "nbformat_minor": 1
}
