{
  "cells": [
    {
      "metadata": {},
      "cell_type": "markdown",
      "source": "# Instructions:\nThe objective of these practical exercises is to familiarise yourself with Jupyter or Spyder and write basic Python programs. "
    },
    {
      "metadata": {},
      "cell_type": "markdown",
      "source": "## Use Python in Script Mode\n\n1. Using script mode write a program that will output the text “Hello There” to screen\n\n2. Create a String variable to store your name and an int variable to store your age. Print this out to screen using the Script mode. \n\n3.\tWrite a program that asks the user to enter a distance in kilometres and then converts that distance to miles (Miles = Kilometres * 0.6214).\n\n4.\tWrite a program that will ask a student for their first name and then for their surname. It should then ask the student to enter the int numerical grade they received in each of their three subjects.  The program should then print out the full name of the student along with their average numerical grade (Use only a single print statement)\n\n5.\tWrite a program to calculate and display a person’s body mass index (BMI). A persons BMI is calculated with the following formula:\n\n    •\tBMI = (weight/ height2  ) * 703 \n\n    Where weight in in pounds and height in in inches. Your program should ask the user for their weight (in pounds) and height (in inches). \n\n6.\tThere are three seating categories at a stadium. For a football games, Class A seat’s cost €25, Class B seat’s cost €20 and Class C seat’s cost €30. Write a program that asks how many tickets for each class of seats were sold, and then display the amount of income generated from ticket sales."
    },
    {
      "metadata": {
        "trusted": true
      },
      "cell_type": "code",
      "source": "",
      "execution_count": null,
      "outputs": []
    },
    {
      "metadata": {
        "trusted": true
      },
      "cell_type": "code",
      "source": "",
      "execution_count": null,
      "outputs": []
    },
    {
      "metadata": {
        "trusted": true
      },
      "cell_type": "code",
      "source": "",
      "execution_count": null,
      "outputs": []
    },
    {
      "metadata": {
        "trusted": true
      },
      "cell_type": "code",
      "source": "",
      "execution_count": null,
      "outputs": []
    },
    {
      "metadata": {
        "trusted": true
      },
      "cell_type": "code",
      "source": "",
      "execution_count": null,
      "outputs": []
    },
    {
      "metadata": {
        "trusted": true
      },
      "cell_type": "code",
      "source": "",
      "execution_count": null,
      "outputs": []
    }
  ],
  "metadata": {
    "kernelspec": {
      "name": "python3",
      "display_name": "Python 3",
      "language": "python"
    },
    "language_info": {
      "mimetype": "text/x-python",
      "nbconvert_exporter": "python",
      "name": "python",
      "file_extension": ".py",
      "version": "3.5.4",
      "pygments_lexer": "ipython3",
      "codemirror_mode": {
        "version": 3,
        "name": "ipython"
      }
    }
  },
  "nbformat": 4,
  "nbformat_minor": 1
}