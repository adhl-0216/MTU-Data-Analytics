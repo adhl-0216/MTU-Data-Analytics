{
  "cells": [
    {
      "metadata": {
        "collapsed": true
      },
      "cell_type": "markdown",
      "source": "# Association Rules\n## Overview\nRule generation is a common task in the mining of frequent patterns. An association rule is an implication expression of the form X→Y, where X and Y are disjoint itemsets [1]. A more concrete example based on consumer behaviour would be {Diapers}→{Beer} suggesting that people who buy diapers are also likely to buy beer. To evaluate the \"interest\" of such an association rule, different metrics have been developed. The current implementation make use of the confidence and lift metrics. "
    },
    {
      "metadata": {},
      "cell_type": "markdown",
      "source": "## Metrics\n\nThe currently supported metrics for evaluating association rules and setting selection thresholds are listed below. Given a rule \"A -> C\", A stands for antecedent and C stands for consequent.\n### Support\n\nsupport(A→C)=support(A∪C),range: [0,1]\n\nThe support metric is defined for itemsets, not assocication rules. The table produced by the association rule mining algorithm contains three different support metrics: 'antecedent support', 'consequent support', and 'support'. Here, 'antecedent support' computes the proportion of transactions that contain the antecedent A, and 'consequent support' computes the support for the itemset of the consequent C. The 'support' metric then computes the support of the combined itemset A ∪ C -- note that 'support' depends on 'antecedent support' and 'consequent support' via min('antecedent support', 'consequent support').\n\nTypically, support is used to measure the abundance or frequency (often interpreted as significance or importance) of an itemset in a database. We refer to an itemset as a \"frequent itemset\" if you support is larger than a specified minimum-support threshold. Note that in general, due to the downward closure property, all subsets of a frequent itemset are also frequent.\n\n### Confidence\n\nconfidence(A→C)=support(A→C)support(A),range: [0,1]\n\nThe confidence of a rule A->C is the probability of seeing the consequent in a transaction given that it also contains the antecedent. Note that the metric is not symmetric or directed; for instance, the confidence for A->C is different than the confidence for C->A. The confidence is 1 (maximal) for a rule A->C if the consequent and antecedent always occur together.\n\n### Lift\n\nlift(A→C)=confidence(A→C)support(C),range: [0,∞]\n\nThe lift metric is commonly used to measure how much more often the antecedent and consequent of a rule A->C occur together than we would expect if they were statistically independent. If A and C are independent, the Lift score will be exactly 1.\n\n### Leverage\n\nlevarage(A→C)=support(A→C)−support(A)×support(C),range: [−1,1]\n\nLeverage computes the difference between the observed frequency of A and C appearing together and the frequency that would be expected if A and C were independent. An leverage value of 0 indicates independence.\n\n### Conviction\n\nconviction(A→C)=1−support(C)1−confidence(A→C),range: [0,∞]\n\nA high conviction value means that the consequent is highly depending on the antecedent. For instance, in the case of a perfect confidence score, the denominator becomes 0 (due to 1 - 1) for which the conviction score is defined as 'inf'. Similar to lift, if items are independent, the conviction is 1."
    },
    {
      "metadata": {},
      "cell_type": "markdown",
      "source": "## Generating Association Rules from Frequent Itemsets\n\nThe generate_rules takes dataframes of frequent itemsets as produced by the apriori function in mlxtend.association. \n\nhttp://rasbt.github.io/mlxtend/"
    },
    {
      "metadata": {
        "trusted": true
      },
      "cell_type": "code",
      "source": "!pip install mlxtend",
      "execution_count": 4,
      "outputs": [
        {
          "output_type": "stream",
          "text": "Collecting mlxtend\n\u001b[?25l  Downloading https://files.pythonhosted.org/packages/16/e6/30e50ed9c053a1530c83149090e1f5fd9fccc8503dca2ecce1bb52f34de0/mlxtend-0.15.0.0-py2.py3-none-any.whl (1.3MB)\n\u001b[K    100% |████████████████████████████████| 1.3MB 2.0MB/s ta 0:00:01\n\u001b[?25hRequirement already satisfied: setuptools in /home/nbuser/anaconda3_501/lib/python3.6/site-packages (from mlxtend) (40.8.0)\nRequirement already satisfied: scipy>=0.17 in /home/nbuser/anaconda3_501/lib/python3.6/site-packages (from mlxtend) (1.1.0)\nRequirement already satisfied: numpy>=1.10.4 in /home/nbuser/anaconda3_501/lib/python3.6/site-packages (from mlxtend) (1.14.6)\nRequirement already satisfied: pandas>=0.17.1 in /home/nbuser/anaconda3_501/lib/python3.6/site-packages (from mlxtend) (0.22.0)\nRequirement already satisfied: matplotlib>=1.5.1 in /home/nbuser/anaconda3_501/lib/python3.6/site-packages (from mlxtend) (3.0.0)\nRequirement already satisfied: scikit-learn>=0.18 in /home/nbuser/anaconda3_501/lib/python3.6/site-packages (from mlxtend) (0.19.1)\nRequirement already satisfied: python-dateutil>=2 in /home/nbuser/anaconda3_501/lib/python3.6/site-packages (from pandas>=0.17.1->mlxtend) (2.7.5)\nRequirement already satisfied: pytz>=2011k in /home/nbuser/anaconda3_501/lib/python3.6/site-packages (from pandas>=0.17.1->mlxtend) (2018.7)\nRequirement already satisfied: cycler>=0.10 in /home/nbuser/anaconda3_501/lib/python3.6/site-packages (from matplotlib>=1.5.1->mlxtend) (0.10.0)\nRequirement already satisfied: kiwisolver>=1.0.1 in /home/nbuser/anaconda3_501/lib/python3.6/site-packages (from matplotlib>=1.5.1->mlxtend) (1.0.1)\nRequirement already satisfied: pyparsing!=2.0.4,!=2.1.2,!=2.1.6,>=2.0.1 in /home/nbuser/anaconda3_501/lib/python3.6/site-packages (from matplotlib>=1.5.1->mlxtend) (2.3.0)\nRequirement already satisfied: six>=1.5 in /home/nbuser/anaconda3_501/lib/python3.6/site-packages (from python-dateutil>=2->pandas>=0.17.1->mlxtend) (1.11.0)\nInstalling collected packages: mlxtend\nSuccessfully installed mlxtend-0.15.0.0\n",
          "name": "stdout"
        }
      ]
    },
    {
      "metadata": {},
      "cell_type": "markdown",
      "source": "To demonstrate the usage of the generate_rules method, we first create a pandas DataFrame of frequent itemsets as generated by the apriori function:"
    },
    {
      "metadata": {
        "trusted": true
      },
      "cell_type": "code",
      "source": "import pandas as pd\nfrom mlxtend.preprocessing import TransactionEncoder\nfrom mlxtend.frequent_patterns import apriori\n\n\ndataset = [['Milk', 'Onion', 'Nutmeg', 'Kidney Beans', 'Eggs', 'Yogurt'],\n           ['Dill', 'Onion', 'Nutmeg', 'Kidney Beans', 'Eggs', 'Yogurt'],\n           ['Milk', 'Apple', 'Kidney Beans', 'Eggs'],\n           ['Milk', 'Unicorn', 'Corn', 'Kidney Beans', 'Yogurt'],\n           ['Corn', 'Onion', 'Onion', 'Kidney Beans', 'Ice cream', 'Eggs']]\n\nte = TransactionEncoder()\nte_ary = te.fit(dataset).transform(dataset)\ndf = pd.DataFrame(te_ary, columns=te.columns_)\nfrequent_itemsets = apriori(df, min_support=0.6, use_colnames=True)\n\nfrequent_itemsets",
      "execution_count": 5,
      "outputs": [
        {
          "output_type": "execute_result",
          "execution_count": 5,
          "data": {
            "text/html": "<div>\n<style scoped>\n    .dataframe tbody tr th:only-of-type {\n        vertical-align: middle;\n    }\n\n    .dataframe tbody tr th {\n        vertical-align: top;\n    }\n\n    .dataframe thead th {\n        text-align: right;\n    }\n</style>\n<table border=\"1\" class=\"dataframe\">\n  <thead>\n    <tr style=\"text-align: right;\">\n      <th></th>\n      <th>support</th>\n      <th>itemsets</th>\n    </tr>\n  </thead>\n  <tbody>\n    <tr>\n      <th>0</th>\n      <td>0.8</td>\n      <td>(Eggs)</td>\n    </tr>\n    <tr>\n      <th>1</th>\n      <td>1.0</td>\n      <td>(Kidney Beans)</td>\n    </tr>\n    <tr>\n      <th>2</th>\n      <td>0.6</td>\n      <td>(Milk)</td>\n    </tr>\n    <tr>\n      <th>3</th>\n      <td>0.6</td>\n      <td>(Onion)</td>\n    </tr>\n    <tr>\n      <th>4</th>\n      <td>0.6</td>\n      <td>(Yogurt)</td>\n    </tr>\n    <tr>\n      <th>5</th>\n      <td>0.8</td>\n      <td>(Eggs, Kidney Beans)</td>\n    </tr>\n    <tr>\n      <th>6</th>\n      <td>0.6</td>\n      <td>(Eggs, Onion)</td>\n    </tr>\n    <tr>\n      <th>7</th>\n      <td>0.6</td>\n      <td>(Kidney Beans, Milk)</td>\n    </tr>\n    <tr>\n      <th>8</th>\n      <td>0.6</td>\n      <td>(Kidney Beans, Onion)</td>\n    </tr>\n    <tr>\n      <th>9</th>\n      <td>0.6</td>\n      <td>(Kidney Beans, Yogurt)</td>\n    </tr>\n    <tr>\n      <th>10</th>\n      <td>0.6</td>\n      <td>(Eggs, Kidney Beans, Onion)</td>\n    </tr>\n  </tbody>\n</table>\n</div>",
            "text/plain": "    support                     itemsets\n0       0.8                       (Eggs)\n1       1.0               (Kidney Beans)\n2       0.6                       (Milk)\n3       0.6                      (Onion)\n4       0.6                     (Yogurt)\n5       0.8         (Eggs, Kidney Beans)\n6       0.6                (Eggs, Onion)\n7       0.6         (Kidney Beans, Milk)\n8       0.6        (Kidney Beans, Onion)\n9       0.6       (Kidney Beans, Yogurt)\n10      0.6  (Eggs, Kidney Beans, Onion)"
          },
          "metadata": {}
        }
      ]
    },
    {
      "metadata": {},
      "cell_type": "markdown",
      "source": "The generate_rules() function allows you to (1) specify your metric of interest and (2) the according threshold. Currently implemented measures are confidence and lift. Let's say you are interesting in rules derived from the frequent itemsets only if the level of confidence is above the 90 percent threshold (min_threshold=0.7):"
    },
    {
      "metadata": {
        "trusted": true
      },
      "cell_type": "code",
      "source": "from mlxtend.frequent_patterns import association_rules\n\nassociation_rules(frequent_itemsets, metric=\"confidence\", min_threshold=0.7)",
      "execution_count": 6,
      "outputs": [
        {
          "output_type": "execute_result",
          "execution_count": 6,
          "data": {
            "text/html": "<div>\n<style scoped>\n    .dataframe tbody tr th:only-of-type {\n        vertical-align: middle;\n    }\n\n    .dataframe tbody tr th {\n        vertical-align: top;\n    }\n\n    .dataframe thead th {\n        text-align: right;\n    }\n</style>\n<table border=\"1\" class=\"dataframe\">\n  <thead>\n    <tr style=\"text-align: right;\">\n      <th></th>\n      <th>antecedents</th>\n      <th>consequents</th>\n      <th>antecedent support</th>\n      <th>consequent support</th>\n      <th>support</th>\n      <th>confidence</th>\n      <th>lift</th>\n      <th>leverage</th>\n      <th>conviction</th>\n    </tr>\n  </thead>\n  <tbody>\n    <tr>\n      <th>0</th>\n      <td>(Eggs)</td>\n      <td>(Kidney Beans)</td>\n      <td>0.8</td>\n      <td>1.0</td>\n      <td>0.8</td>\n      <td>1.00</td>\n      <td>1.00</td>\n      <td>0.00</td>\n      <td>inf</td>\n    </tr>\n    <tr>\n      <th>1</th>\n      <td>(Kidney Beans)</td>\n      <td>(Eggs)</td>\n      <td>1.0</td>\n      <td>0.8</td>\n      <td>0.8</td>\n      <td>0.80</td>\n      <td>1.00</td>\n      <td>0.00</td>\n      <td>1.000000</td>\n    </tr>\n    <tr>\n      <th>2</th>\n      <td>(Eggs)</td>\n      <td>(Onion)</td>\n      <td>0.8</td>\n      <td>0.6</td>\n      <td>0.6</td>\n      <td>0.75</td>\n      <td>1.25</td>\n      <td>0.12</td>\n      <td>1.600000</td>\n    </tr>\n    <tr>\n      <th>3</th>\n      <td>(Onion)</td>\n      <td>(Eggs)</td>\n      <td>0.6</td>\n      <td>0.8</td>\n      <td>0.6</td>\n      <td>1.00</td>\n      <td>1.25</td>\n      <td>0.12</td>\n      <td>inf</td>\n    </tr>\n    <tr>\n      <th>4</th>\n      <td>(Milk)</td>\n      <td>(Kidney Beans)</td>\n      <td>0.6</td>\n      <td>1.0</td>\n      <td>0.6</td>\n      <td>1.00</td>\n      <td>1.00</td>\n      <td>0.00</td>\n      <td>inf</td>\n    </tr>\n    <tr>\n      <th>5</th>\n      <td>(Onion)</td>\n      <td>(Kidney Beans)</td>\n      <td>0.6</td>\n      <td>1.0</td>\n      <td>0.6</td>\n      <td>1.00</td>\n      <td>1.00</td>\n      <td>0.00</td>\n      <td>inf</td>\n    </tr>\n    <tr>\n      <th>6</th>\n      <td>(Yogurt)</td>\n      <td>(Kidney Beans)</td>\n      <td>0.6</td>\n      <td>1.0</td>\n      <td>0.6</td>\n      <td>1.00</td>\n      <td>1.00</td>\n      <td>0.00</td>\n      <td>inf</td>\n    </tr>\n    <tr>\n      <th>7</th>\n      <td>(Eggs, Kidney Beans)</td>\n      <td>(Onion)</td>\n      <td>0.8</td>\n      <td>0.6</td>\n      <td>0.6</td>\n      <td>0.75</td>\n      <td>1.25</td>\n      <td>0.12</td>\n      <td>1.600000</td>\n    </tr>\n    <tr>\n      <th>8</th>\n      <td>(Eggs, Onion)</td>\n      <td>(Kidney Beans)</td>\n      <td>0.6</td>\n      <td>1.0</td>\n      <td>0.6</td>\n      <td>1.00</td>\n      <td>1.00</td>\n      <td>0.00</td>\n      <td>inf</td>\n    </tr>\n    <tr>\n      <th>9</th>\n      <td>(Kidney Beans, Onion)</td>\n      <td>(Eggs)</td>\n      <td>0.6</td>\n      <td>0.8</td>\n      <td>0.6</td>\n      <td>1.00</td>\n      <td>1.25</td>\n      <td>0.12</td>\n      <td>inf</td>\n    </tr>\n    <tr>\n      <th>10</th>\n      <td>(Eggs)</td>\n      <td>(Kidney Beans, Onion)</td>\n      <td>0.8</td>\n      <td>0.6</td>\n      <td>0.6</td>\n      <td>0.75</td>\n      <td>1.25</td>\n      <td>0.12</td>\n      <td>1.600000</td>\n    </tr>\n    <tr>\n      <th>11</th>\n      <td>(Onion)</td>\n      <td>(Eggs, Kidney Beans)</td>\n      <td>0.6</td>\n      <td>0.8</td>\n      <td>0.6</td>\n      <td>1.00</td>\n      <td>1.25</td>\n      <td>0.12</td>\n      <td>inf</td>\n    </tr>\n  </tbody>\n</table>\n</div>",
            "text/plain": "              antecedents            consequents  antecedent support  \\\n0                  (Eggs)         (Kidney Beans)                 0.8   \n1          (Kidney Beans)                 (Eggs)                 1.0   \n2                  (Eggs)                (Onion)                 0.8   \n3                 (Onion)                 (Eggs)                 0.6   \n4                  (Milk)         (Kidney Beans)                 0.6   \n5                 (Onion)         (Kidney Beans)                 0.6   \n6                (Yogurt)         (Kidney Beans)                 0.6   \n7    (Eggs, Kidney Beans)                (Onion)                 0.8   \n8           (Eggs, Onion)         (Kidney Beans)                 0.6   \n9   (Kidney Beans, Onion)                 (Eggs)                 0.6   \n10                 (Eggs)  (Kidney Beans, Onion)                 0.8   \n11                (Onion)   (Eggs, Kidney Beans)                 0.6   \n\n    consequent support  support  confidence  lift  leverage  conviction  \n0                  1.0      0.8        1.00  1.00      0.00         inf  \n1                  0.8      0.8        0.80  1.00      0.00    1.000000  \n2                  0.6      0.6        0.75  1.25      0.12    1.600000  \n3                  0.8      0.6        1.00  1.25      0.12         inf  \n4                  1.0      0.6        1.00  1.00      0.00         inf  \n5                  1.0      0.6        1.00  1.00      0.00         inf  \n6                  1.0      0.6        1.00  1.00      0.00         inf  \n7                  0.6      0.6        0.75  1.25      0.12    1.600000  \n8                  1.0      0.6        1.00  1.00      0.00         inf  \n9                  0.8      0.6        1.00  1.25      0.12         inf  \n10                 0.6      0.6        0.75  1.25      0.12    1.600000  \n11                 0.8      0.6        1.00  1.25      0.12         inf  "
          },
          "metadata": {}
        }
      ]
    },
    {
      "metadata": {},
      "cell_type": "markdown",
      "source": "## Rule Generation and Selection Criteria\n\nIf you are interested in rules according to a different metric of interest, you can simply adjust the metric and min_threshold arguments . E.g. if you are only interested in rules that have a lift score of >= 1.2, you would do the following:"
    },
    {
      "metadata": {
        "trusted": true
      },
      "cell_type": "code",
      "source": "rules = association_rules(frequent_itemsets, metric=\"lift\", min_threshold=1.2)\nrules",
      "execution_count": 7,
      "outputs": [
        {
          "output_type": "execute_result",
          "execution_count": 7,
          "data": {
            "text/html": "<div>\n<style scoped>\n    .dataframe tbody tr th:only-of-type {\n        vertical-align: middle;\n    }\n\n    .dataframe tbody tr th {\n        vertical-align: top;\n    }\n\n    .dataframe thead th {\n        text-align: right;\n    }\n</style>\n<table border=\"1\" class=\"dataframe\">\n  <thead>\n    <tr style=\"text-align: right;\">\n      <th></th>\n      <th>antecedents</th>\n      <th>consequents</th>\n      <th>antecedent support</th>\n      <th>consequent support</th>\n      <th>support</th>\n      <th>confidence</th>\n      <th>lift</th>\n      <th>leverage</th>\n      <th>conviction</th>\n    </tr>\n  </thead>\n  <tbody>\n    <tr>\n      <th>0</th>\n      <td>(Eggs)</td>\n      <td>(Onion)</td>\n      <td>0.8</td>\n      <td>0.6</td>\n      <td>0.6</td>\n      <td>0.75</td>\n      <td>1.25</td>\n      <td>0.12</td>\n      <td>1.600000</td>\n    </tr>\n    <tr>\n      <th>1</th>\n      <td>(Onion)</td>\n      <td>(Eggs)</td>\n      <td>0.6</td>\n      <td>0.8</td>\n      <td>0.6</td>\n      <td>1.00</td>\n      <td>1.25</td>\n      <td>0.12</td>\n      <td>inf</td>\n    </tr>\n    <tr>\n      <th>2</th>\n      <td>(Eggs, Kidney Beans)</td>\n      <td>(Onion)</td>\n      <td>0.8</td>\n      <td>0.6</td>\n      <td>0.6</td>\n      <td>0.75</td>\n      <td>1.25</td>\n      <td>0.12</td>\n      <td>1.600000</td>\n    </tr>\n    <tr>\n      <th>3</th>\n      <td>(Kidney Beans, Onion)</td>\n      <td>(Eggs)</td>\n      <td>0.6</td>\n      <td>0.8</td>\n      <td>0.6</td>\n      <td>1.00</td>\n      <td>1.25</td>\n      <td>0.12</td>\n      <td>inf</td>\n    </tr>\n    <tr>\n      <th>4</th>\n      <td>(Eggs)</td>\n      <td>(Kidney Beans, Onion)</td>\n      <td>0.8</td>\n      <td>0.6</td>\n      <td>0.6</td>\n      <td>0.75</td>\n      <td>1.25</td>\n      <td>0.12</td>\n      <td>1.600000</td>\n    </tr>\n    <tr>\n      <th>5</th>\n      <td>(Onion)</td>\n      <td>(Eggs, Kidney Beans)</td>\n      <td>0.6</td>\n      <td>0.8</td>\n      <td>0.6</td>\n      <td>1.00</td>\n      <td>1.25</td>\n      <td>0.12</td>\n      <td>inf</td>\n    </tr>\n  </tbody>\n</table>\n</div>",
            "text/plain": "             antecedents            consequents  antecedent support  \\\n0                 (Eggs)                (Onion)                 0.8   \n1                (Onion)                 (Eggs)                 0.6   \n2   (Eggs, Kidney Beans)                (Onion)                 0.8   \n3  (Kidney Beans, Onion)                 (Eggs)                 0.6   \n4                 (Eggs)  (Kidney Beans, Onion)                 0.8   \n5                (Onion)   (Eggs, Kidney Beans)                 0.6   \n\n   consequent support  support  confidence  lift  leverage  conviction  \n0                 0.6      0.6        0.75  1.25      0.12    1.600000  \n1                 0.8      0.6        1.00  1.25      0.12         inf  \n2                 0.6      0.6        0.75  1.25      0.12    1.600000  \n3                 0.8      0.6        1.00  1.25      0.12         inf  \n4                 0.6      0.6        0.75  1.25      0.12    1.600000  \n5                 0.8      0.6        1.00  1.25      0.12         inf  "
          },
          "metadata": {}
        }
      ]
    },
    {
      "metadata": {},
      "cell_type": "markdown",
      "source": "Pandas DataFrames make it easy to filter the results further. Let's say we are ony interested in rules that satisfy the following criteria:\n\n   1. at least 2 antecedents\n   2. a confidence > 0.75\n   3. a lift score > 1.2\n\nWe could compute the antecedent length as follows:"
    },
    {
      "metadata": {
        "trusted": true
      },
      "cell_type": "code",
      "source": "rules[\"antecedent_len\"] = rules[\"antecedents\"].apply(lambda x: len(x))\nrules",
      "execution_count": 8,
      "outputs": [
        {
          "output_type": "execute_result",
          "execution_count": 8,
          "data": {
            "text/html": "<div>\n<style scoped>\n    .dataframe tbody tr th:only-of-type {\n        vertical-align: middle;\n    }\n\n    .dataframe tbody tr th {\n        vertical-align: top;\n    }\n\n    .dataframe thead th {\n        text-align: right;\n    }\n</style>\n<table border=\"1\" class=\"dataframe\">\n  <thead>\n    <tr style=\"text-align: right;\">\n      <th></th>\n      <th>antecedents</th>\n      <th>consequents</th>\n      <th>antecedent support</th>\n      <th>consequent support</th>\n      <th>support</th>\n      <th>confidence</th>\n      <th>lift</th>\n      <th>leverage</th>\n      <th>conviction</th>\n      <th>antecedent_len</th>\n    </tr>\n  </thead>\n  <tbody>\n    <tr>\n      <th>0</th>\n      <td>(Eggs)</td>\n      <td>(Onion)</td>\n      <td>0.8</td>\n      <td>0.6</td>\n      <td>0.6</td>\n      <td>0.75</td>\n      <td>1.25</td>\n      <td>0.12</td>\n      <td>1.600000</td>\n      <td>1</td>\n    </tr>\n    <tr>\n      <th>1</th>\n      <td>(Onion)</td>\n      <td>(Eggs)</td>\n      <td>0.6</td>\n      <td>0.8</td>\n      <td>0.6</td>\n      <td>1.00</td>\n      <td>1.25</td>\n      <td>0.12</td>\n      <td>inf</td>\n      <td>1</td>\n    </tr>\n    <tr>\n      <th>2</th>\n      <td>(Eggs, Kidney Beans)</td>\n      <td>(Onion)</td>\n      <td>0.8</td>\n      <td>0.6</td>\n      <td>0.6</td>\n      <td>0.75</td>\n      <td>1.25</td>\n      <td>0.12</td>\n      <td>1.600000</td>\n      <td>2</td>\n    </tr>\n    <tr>\n      <th>3</th>\n      <td>(Kidney Beans, Onion)</td>\n      <td>(Eggs)</td>\n      <td>0.6</td>\n      <td>0.8</td>\n      <td>0.6</td>\n      <td>1.00</td>\n      <td>1.25</td>\n      <td>0.12</td>\n      <td>inf</td>\n      <td>2</td>\n    </tr>\n    <tr>\n      <th>4</th>\n      <td>(Eggs)</td>\n      <td>(Kidney Beans, Onion)</td>\n      <td>0.8</td>\n      <td>0.6</td>\n      <td>0.6</td>\n      <td>0.75</td>\n      <td>1.25</td>\n      <td>0.12</td>\n      <td>1.600000</td>\n      <td>1</td>\n    </tr>\n    <tr>\n      <th>5</th>\n      <td>(Onion)</td>\n      <td>(Eggs, Kidney Beans)</td>\n      <td>0.6</td>\n      <td>0.8</td>\n      <td>0.6</td>\n      <td>1.00</td>\n      <td>1.25</td>\n      <td>0.12</td>\n      <td>inf</td>\n      <td>1</td>\n    </tr>\n  </tbody>\n</table>\n</div>",
            "text/plain": "             antecedents            consequents  antecedent support  \\\n0                 (Eggs)                (Onion)                 0.8   \n1                (Onion)                 (Eggs)                 0.6   \n2   (Eggs, Kidney Beans)                (Onion)                 0.8   \n3  (Kidney Beans, Onion)                 (Eggs)                 0.6   \n4                 (Eggs)  (Kidney Beans, Onion)                 0.8   \n5                (Onion)   (Eggs, Kidney Beans)                 0.6   \n\n   consequent support  support  confidence  lift  leverage  conviction  \\\n0                 0.6      0.6        0.75  1.25      0.12    1.600000   \n1                 0.8      0.6        1.00  1.25      0.12         inf   \n2                 0.6      0.6        0.75  1.25      0.12    1.600000   \n3                 0.8      0.6        1.00  1.25      0.12         inf   \n4                 0.6      0.6        0.75  1.25      0.12    1.600000   \n5                 0.8      0.6        1.00  1.25      0.12         inf   \n\n   antecedent_len  \n0               1  \n1               1  \n2               2  \n3               2  \n4               1  \n5               1  "
          },
          "metadata": {}
        }
      ]
    },
    {
      "metadata": {},
      "cell_type": "markdown",
      "source": "Then, we can use pandas' selection syntax as shown below:"
    },
    {
      "metadata": {
        "trusted": true
      },
      "cell_type": "code",
      "source": "rules[ (rules['antecedent_len'] >= 2) &\n       (rules['confidence'] > 0.75) &\n       (rules['lift'] > 1.2) ]",
      "execution_count": 9,
      "outputs": [
        {
          "output_type": "execute_result",
          "execution_count": 9,
          "data": {
            "text/html": "<div>\n<style scoped>\n    .dataframe tbody tr th:only-of-type {\n        vertical-align: middle;\n    }\n\n    .dataframe tbody tr th {\n        vertical-align: top;\n    }\n\n    .dataframe thead th {\n        text-align: right;\n    }\n</style>\n<table border=\"1\" class=\"dataframe\">\n  <thead>\n    <tr style=\"text-align: right;\">\n      <th></th>\n      <th>antecedents</th>\n      <th>consequents</th>\n      <th>antecedent support</th>\n      <th>consequent support</th>\n      <th>support</th>\n      <th>confidence</th>\n      <th>lift</th>\n      <th>leverage</th>\n      <th>conviction</th>\n      <th>antecedent_len</th>\n    </tr>\n  </thead>\n  <tbody>\n    <tr>\n      <th>3</th>\n      <td>(Kidney Beans, Onion)</td>\n      <td>(Eggs)</td>\n      <td>0.6</td>\n      <td>0.8</td>\n      <td>0.6</td>\n      <td>1.0</td>\n      <td>1.25</td>\n      <td>0.12</td>\n      <td>inf</td>\n      <td>2</td>\n    </tr>\n  </tbody>\n</table>\n</div>",
            "text/plain": "             antecedents consequents  antecedent support  consequent support  \\\n3  (Kidney Beans, Onion)      (Eggs)                 0.6                 0.8   \n\n   support  confidence  lift  leverage  conviction  antecedent_len  \n3      0.6         1.0  1.25      0.12         inf               2  "
          },
          "metadata": {}
        }
      ]
    },
    {
      "metadata": {},
      "cell_type": "markdown",
      "source": "Similarly, using the Pandas API, we can select entries based on the \"antecedents\" or \"consequents\" columns:"
    },
    {
      "metadata": {
        "trusted": true
      },
      "cell_type": "code",
      "source": "rules[rules['antecedents'] == {'Eggs', 'Kidney Beans'}]",
      "execution_count": 10,
      "outputs": [
        {
          "output_type": "execute_result",
          "execution_count": 10,
          "data": {
            "text/html": "<div>\n<style scoped>\n    .dataframe tbody tr th:only-of-type {\n        vertical-align: middle;\n    }\n\n    .dataframe tbody tr th {\n        vertical-align: top;\n    }\n\n    .dataframe thead th {\n        text-align: right;\n    }\n</style>\n<table border=\"1\" class=\"dataframe\">\n  <thead>\n    <tr style=\"text-align: right;\">\n      <th></th>\n      <th>antecedents</th>\n      <th>consequents</th>\n      <th>antecedent support</th>\n      <th>consequent support</th>\n      <th>support</th>\n      <th>confidence</th>\n      <th>lift</th>\n      <th>leverage</th>\n      <th>conviction</th>\n      <th>antecedent_len</th>\n    </tr>\n  </thead>\n  <tbody>\n    <tr>\n      <th>2</th>\n      <td>(Eggs, Kidney Beans)</td>\n      <td>(Onion)</td>\n      <td>0.8</td>\n      <td>0.6</td>\n      <td>0.6</td>\n      <td>0.75</td>\n      <td>1.25</td>\n      <td>0.12</td>\n      <td>1.6</td>\n      <td>2</td>\n    </tr>\n  </tbody>\n</table>\n</div>",
            "text/plain": "            antecedents consequents  antecedent support  consequent support  \\\n2  (Eggs, Kidney Beans)     (Onion)                 0.8                 0.6   \n\n   support  confidence  lift  leverage  conviction  antecedent_len  \n2      0.6        0.75  1.25      0.12         1.6               2  "
          },
          "metadata": {}
        }
      ]
    },
    {
      "metadata": {
        "trusted": true
      },
      "cell_type": "code",
      "source": "## Frozensets\n\nNote that the entries in the \"itemsets\" column are of type frozenset, which is built-in Python type that is similar to a Python set but immutable, which makes it more efficient for certain query or comparison operations (https://docs.python.org/3.6/library/stdtypes.html#frozenset). Since frozensets are sets, the item order does not matter. I.e., the query\n\nrules[rules['antecedents'] == {'Eggs', 'Kidney Beans'}]\n\nis equivalent to any of the following three\n\n    rules[rules['antecedents'] == {'Kidney Beans', 'Eggs'}]\n    rules[rules['antecedents'] == frozenset(('Eggs', 'Kidney Beans'))]\n    rules[rules['antecedents'] == frozenset(('Kidney Beans', 'Eggs'))]\n",
      "execution_count": null,
      "outputs": []
    },
    {
      "metadata": {},
      "cell_type": "markdown",
      "source": "## Frequent Itemsets with Incomplete Antecedent and Consequent Information\n\nMost metrics computed by association_rules depends on the consequent and antecedent support score of a given rule provided in the frequent itemset input DataFrame. Consider the following example:"
    },
    {
      "metadata": {
        "trusted": true
      },
      "cell_type": "code",
      "source": "import pandas as pd\n\ndict = {'itemsets': [['177', '176'], ['177', '179'],\n                     ['176', '178'], ['176', '179'],\n                     ['93', '100'], ['177', '178'],\n                     ['177', '176', '178']],\n        'support':[0.253623, 0.253623, 0.217391,\n                   0.217391, 0.181159, 0.108696, 0.108696]}\n\nfreq_itemsets = pd.DataFrame(dict)\nfreq_itemsets",
      "execution_count": 11,
      "outputs": [
        {
          "output_type": "execute_result",
          "execution_count": 11,
          "data": {
            "text/html": "<div>\n<style scoped>\n    .dataframe tbody tr th:only-of-type {\n        vertical-align: middle;\n    }\n\n    .dataframe tbody tr th {\n        vertical-align: top;\n    }\n\n    .dataframe thead th {\n        text-align: right;\n    }\n</style>\n<table border=\"1\" class=\"dataframe\">\n  <thead>\n    <tr style=\"text-align: right;\">\n      <th></th>\n      <th>itemsets</th>\n      <th>support</th>\n    </tr>\n  </thead>\n  <tbody>\n    <tr>\n      <th>0</th>\n      <td>[177, 176]</td>\n      <td>0.253623</td>\n    </tr>\n    <tr>\n      <th>1</th>\n      <td>[177, 179]</td>\n      <td>0.253623</td>\n    </tr>\n    <tr>\n      <th>2</th>\n      <td>[176, 178]</td>\n      <td>0.217391</td>\n    </tr>\n    <tr>\n      <th>3</th>\n      <td>[176, 179]</td>\n      <td>0.217391</td>\n    </tr>\n    <tr>\n      <th>4</th>\n      <td>[93, 100]</td>\n      <td>0.181159</td>\n    </tr>\n    <tr>\n      <th>5</th>\n      <td>[177, 178]</td>\n      <td>0.108696</td>\n    </tr>\n    <tr>\n      <th>6</th>\n      <td>[177, 176, 178]</td>\n      <td>0.108696</td>\n    </tr>\n  </tbody>\n</table>\n</div>",
            "text/plain": "          itemsets   support\n0       [177, 176]  0.253623\n1       [177, 179]  0.253623\n2       [176, 178]  0.217391\n3       [176, 179]  0.217391\n4        [93, 100]  0.181159\n5       [177, 178]  0.108696\n6  [177, 176, 178]  0.108696"
          },
          "metadata": {}
        }
      ]
    },
    {
      "metadata": {},
      "cell_type": "markdown",
      "source": "Note that this is a \"cropped\" DataFrame that doesn't contain the support values of the item subsets. This can create problems if we want to compute the association rule metrics for, e.g., 176 => 177.\n\nFor example, the confidence is computed as\n\nconfidence(A→C)=support(A→C)support(A),range: [0,1]\n\nBut we do not have support(A). All we know about \"A\"'s support is that it is at least 0.253623.\n\nIn these scenarios, where not all metric's can be computed, due to incomplete input DataFrames, you can use the support_only=True option, which will only compute the support column of a given rule that does not require as much info:\n\nsupport(A→C)=support(A∪C),range: [0,1]\n\n\"NaN's\" will be assigned to all other metric columns:"
    },
    {
      "metadata": {
        "trusted": true
      },
      "cell_type": "code",
      "source": "from mlxtend.frequent_patterns import association_rules\n\nres = association_rules(freq_itemsets, support_only=True, min_threshold=0.1)\nres",
      "execution_count": 13,
      "outputs": [
        {
          "output_type": "execute_result",
          "execution_count": 13,
          "data": {
            "text/html": "<div>\n<style scoped>\n    .dataframe tbody tr th:only-of-type {\n        vertical-align: middle;\n    }\n\n    .dataframe tbody tr th {\n        vertical-align: top;\n    }\n\n    .dataframe thead th {\n        text-align: right;\n    }\n</style>\n<table border=\"1\" class=\"dataframe\">\n  <thead>\n    <tr style=\"text-align: right;\">\n      <th></th>\n      <th>antecedents</th>\n      <th>consequents</th>\n      <th>antecedent support</th>\n      <th>consequent support</th>\n      <th>support</th>\n      <th>confidence</th>\n      <th>lift</th>\n      <th>leverage</th>\n      <th>conviction</th>\n    </tr>\n  </thead>\n  <tbody>\n    <tr>\n      <th>0</th>\n      <td>(177)</td>\n      <td>(176)</td>\n      <td>NaN</td>\n      <td>NaN</td>\n      <td>0.253623</td>\n      <td>NaN</td>\n      <td>NaN</td>\n      <td>NaN</td>\n      <td>NaN</td>\n    </tr>\n    <tr>\n      <th>1</th>\n      <td>(176)</td>\n      <td>(177)</td>\n      <td>NaN</td>\n      <td>NaN</td>\n      <td>0.253623</td>\n      <td>NaN</td>\n      <td>NaN</td>\n      <td>NaN</td>\n      <td>NaN</td>\n    </tr>\n    <tr>\n      <th>2</th>\n      <td>(179)</td>\n      <td>(177)</td>\n      <td>NaN</td>\n      <td>NaN</td>\n      <td>0.253623</td>\n      <td>NaN</td>\n      <td>NaN</td>\n      <td>NaN</td>\n      <td>NaN</td>\n    </tr>\n    <tr>\n      <th>3</th>\n      <td>(177)</td>\n      <td>(179)</td>\n      <td>NaN</td>\n      <td>NaN</td>\n      <td>0.253623</td>\n      <td>NaN</td>\n      <td>NaN</td>\n      <td>NaN</td>\n      <td>NaN</td>\n    </tr>\n    <tr>\n      <th>4</th>\n      <td>(176)</td>\n      <td>(178)</td>\n      <td>NaN</td>\n      <td>NaN</td>\n      <td>0.217391</td>\n      <td>NaN</td>\n      <td>NaN</td>\n      <td>NaN</td>\n      <td>NaN</td>\n    </tr>\n    <tr>\n      <th>5</th>\n      <td>(178)</td>\n      <td>(176)</td>\n      <td>NaN</td>\n      <td>NaN</td>\n      <td>0.217391</td>\n      <td>NaN</td>\n      <td>NaN</td>\n      <td>NaN</td>\n      <td>NaN</td>\n    </tr>\n    <tr>\n      <th>6</th>\n      <td>(179)</td>\n      <td>(176)</td>\n      <td>NaN</td>\n      <td>NaN</td>\n      <td>0.217391</td>\n      <td>NaN</td>\n      <td>NaN</td>\n      <td>NaN</td>\n      <td>NaN</td>\n    </tr>\n    <tr>\n      <th>7</th>\n      <td>(176)</td>\n      <td>(179)</td>\n      <td>NaN</td>\n      <td>NaN</td>\n      <td>0.217391</td>\n      <td>NaN</td>\n      <td>NaN</td>\n      <td>NaN</td>\n      <td>NaN</td>\n    </tr>\n    <tr>\n      <th>8</th>\n      <td>(100)</td>\n      <td>(93)</td>\n      <td>NaN</td>\n      <td>NaN</td>\n      <td>0.181159</td>\n      <td>NaN</td>\n      <td>NaN</td>\n      <td>NaN</td>\n      <td>NaN</td>\n    </tr>\n    <tr>\n      <th>9</th>\n      <td>(93)</td>\n      <td>(100)</td>\n      <td>NaN</td>\n      <td>NaN</td>\n      <td>0.181159</td>\n      <td>NaN</td>\n      <td>NaN</td>\n      <td>NaN</td>\n      <td>NaN</td>\n    </tr>\n    <tr>\n      <th>10</th>\n      <td>(177)</td>\n      <td>(178)</td>\n      <td>NaN</td>\n      <td>NaN</td>\n      <td>0.108696</td>\n      <td>NaN</td>\n      <td>NaN</td>\n      <td>NaN</td>\n      <td>NaN</td>\n    </tr>\n    <tr>\n      <th>11</th>\n      <td>(178)</td>\n      <td>(177)</td>\n      <td>NaN</td>\n      <td>NaN</td>\n      <td>0.108696</td>\n      <td>NaN</td>\n      <td>NaN</td>\n      <td>NaN</td>\n      <td>NaN</td>\n    </tr>\n    <tr>\n      <th>12</th>\n      <td>(177, 178)</td>\n      <td>(176)</td>\n      <td>NaN</td>\n      <td>NaN</td>\n      <td>0.108696</td>\n      <td>NaN</td>\n      <td>NaN</td>\n      <td>NaN</td>\n      <td>NaN</td>\n    </tr>\n    <tr>\n      <th>13</th>\n      <td>(177, 176)</td>\n      <td>(178)</td>\n      <td>NaN</td>\n      <td>NaN</td>\n      <td>0.108696</td>\n      <td>NaN</td>\n      <td>NaN</td>\n      <td>NaN</td>\n      <td>NaN</td>\n    </tr>\n    <tr>\n      <th>14</th>\n      <td>(176, 178)</td>\n      <td>(177)</td>\n      <td>NaN</td>\n      <td>NaN</td>\n      <td>0.108696</td>\n      <td>NaN</td>\n      <td>NaN</td>\n      <td>NaN</td>\n      <td>NaN</td>\n    </tr>\n    <tr>\n      <th>15</th>\n      <td>(177)</td>\n      <td>(176, 178)</td>\n      <td>NaN</td>\n      <td>NaN</td>\n      <td>0.108696</td>\n      <td>NaN</td>\n      <td>NaN</td>\n      <td>NaN</td>\n      <td>NaN</td>\n    </tr>\n    <tr>\n      <th>16</th>\n      <td>(178)</td>\n      <td>(177, 176)</td>\n      <td>NaN</td>\n      <td>NaN</td>\n      <td>0.108696</td>\n      <td>NaN</td>\n      <td>NaN</td>\n      <td>NaN</td>\n      <td>NaN</td>\n    </tr>\n    <tr>\n      <th>17</th>\n      <td>(176)</td>\n      <td>(177, 178)</td>\n      <td>NaN</td>\n      <td>NaN</td>\n      <td>0.108696</td>\n      <td>NaN</td>\n      <td>NaN</td>\n      <td>NaN</td>\n      <td>NaN</td>\n    </tr>\n  </tbody>\n</table>\n</div>",
            "text/plain": "   antecedents consequents  antecedent support  consequent support   support  \\\n0        (177)       (176)                 NaN                 NaN  0.253623   \n1        (176)       (177)                 NaN                 NaN  0.253623   \n2        (179)       (177)                 NaN                 NaN  0.253623   \n3        (177)       (179)                 NaN                 NaN  0.253623   \n4        (176)       (178)                 NaN                 NaN  0.217391   \n5        (178)       (176)                 NaN                 NaN  0.217391   \n6        (179)       (176)                 NaN                 NaN  0.217391   \n7        (176)       (179)                 NaN                 NaN  0.217391   \n8        (100)        (93)                 NaN                 NaN  0.181159   \n9         (93)       (100)                 NaN                 NaN  0.181159   \n10       (177)       (178)                 NaN                 NaN  0.108696   \n11       (178)       (177)                 NaN                 NaN  0.108696   \n12  (177, 178)       (176)                 NaN                 NaN  0.108696   \n13  (177, 176)       (178)                 NaN                 NaN  0.108696   \n14  (176, 178)       (177)                 NaN                 NaN  0.108696   \n15       (177)  (176, 178)                 NaN                 NaN  0.108696   \n16       (178)  (177, 176)                 NaN                 NaN  0.108696   \n17       (176)  (177, 178)                 NaN                 NaN  0.108696   \n\n    confidence  lift  leverage  conviction  \n0          NaN   NaN       NaN         NaN  \n1          NaN   NaN       NaN         NaN  \n2          NaN   NaN       NaN         NaN  \n3          NaN   NaN       NaN         NaN  \n4          NaN   NaN       NaN         NaN  \n5          NaN   NaN       NaN         NaN  \n6          NaN   NaN       NaN         NaN  \n7          NaN   NaN       NaN         NaN  \n8          NaN   NaN       NaN         NaN  \n9          NaN   NaN       NaN         NaN  \n10         NaN   NaN       NaN         NaN  \n11         NaN   NaN       NaN         NaN  \n12         NaN   NaN       NaN         NaN  \n13         NaN   NaN       NaN         NaN  \n14         NaN   NaN       NaN         NaN  \n15         NaN   NaN       NaN         NaN  \n16         NaN   NaN       NaN         NaN  \n17         NaN   NaN       NaN         NaN  "
          },
          "metadata": {}
        }
      ]
    },
    {
      "metadata": {},
      "cell_type": "markdown",
      "source": "To clean up the representation, you may want to do the following:"
    },
    {
      "metadata": {
        "trusted": true
      },
      "cell_type": "code",
      "source": "res = res[['antecedents', 'consequents', 'support']]\nres",
      "execution_count": 14,
      "outputs": [
        {
          "output_type": "execute_result",
          "execution_count": 14,
          "data": {
            "text/html": "<div>\n<style scoped>\n    .dataframe tbody tr th:only-of-type {\n        vertical-align: middle;\n    }\n\n    .dataframe tbody tr th {\n        vertical-align: top;\n    }\n\n    .dataframe thead th {\n        text-align: right;\n    }\n</style>\n<table border=\"1\" class=\"dataframe\">\n  <thead>\n    <tr style=\"text-align: right;\">\n      <th></th>\n      <th>antecedents</th>\n      <th>consequents</th>\n      <th>support</th>\n    </tr>\n  </thead>\n  <tbody>\n    <tr>\n      <th>0</th>\n      <td>(177)</td>\n      <td>(176)</td>\n      <td>0.253623</td>\n    </tr>\n    <tr>\n      <th>1</th>\n      <td>(176)</td>\n      <td>(177)</td>\n      <td>0.253623</td>\n    </tr>\n    <tr>\n      <th>2</th>\n      <td>(179)</td>\n      <td>(177)</td>\n      <td>0.253623</td>\n    </tr>\n    <tr>\n      <th>3</th>\n      <td>(177)</td>\n      <td>(179)</td>\n      <td>0.253623</td>\n    </tr>\n    <tr>\n      <th>4</th>\n      <td>(176)</td>\n      <td>(178)</td>\n      <td>0.217391</td>\n    </tr>\n    <tr>\n      <th>5</th>\n      <td>(178)</td>\n      <td>(176)</td>\n      <td>0.217391</td>\n    </tr>\n    <tr>\n      <th>6</th>\n      <td>(179)</td>\n      <td>(176)</td>\n      <td>0.217391</td>\n    </tr>\n    <tr>\n      <th>7</th>\n      <td>(176)</td>\n      <td>(179)</td>\n      <td>0.217391</td>\n    </tr>\n    <tr>\n      <th>8</th>\n      <td>(100)</td>\n      <td>(93)</td>\n      <td>0.181159</td>\n    </tr>\n    <tr>\n      <th>9</th>\n      <td>(93)</td>\n      <td>(100)</td>\n      <td>0.181159</td>\n    </tr>\n    <tr>\n      <th>10</th>\n      <td>(177)</td>\n      <td>(178)</td>\n      <td>0.108696</td>\n    </tr>\n    <tr>\n      <th>11</th>\n      <td>(178)</td>\n      <td>(177)</td>\n      <td>0.108696</td>\n    </tr>\n    <tr>\n      <th>12</th>\n      <td>(177, 178)</td>\n      <td>(176)</td>\n      <td>0.108696</td>\n    </tr>\n    <tr>\n      <th>13</th>\n      <td>(177, 176)</td>\n      <td>(178)</td>\n      <td>0.108696</td>\n    </tr>\n    <tr>\n      <th>14</th>\n      <td>(176, 178)</td>\n      <td>(177)</td>\n      <td>0.108696</td>\n    </tr>\n    <tr>\n      <th>15</th>\n      <td>(177)</td>\n      <td>(176, 178)</td>\n      <td>0.108696</td>\n    </tr>\n    <tr>\n      <th>16</th>\n      <td>(178)</td>\n      <td>(177, 176)</td>\n      <td>0.108696</td>\n    </tr>\n    <tr>\n      <th>17</th>\n      <td>(176)</td>\n      <td>(177, 178)</td>\n      <td>0.108696</td>\n    </tr>\n  </tbody>\n</table>\n</div>",
            "text/plain": "   antecedents consequents   support\n0        (177)       (176)  0.253623\n1        (176)       (177)  0.253623\n2        (179)       (177)  0.253623\n3        (177)       (179)  0.253623\n4        (176)       (178)  0.217391\n5        (178)       (176)  0.217391\n6        (179)       (176)  0.217391\n7        (176)       (179)  0.217391\n8        (100)        (93)  0.181159\n9         (93)       (100)  0.181159\n10       (177)       (178)  0.108696\n11       (178)       (177)  0.108696\n12  (177, 178)       (176)  0.108696\n13  (177, 176)       (178)  0.108696\n14  (176, 178)       (177)  0.108696\n15       (177)  (176, 178)  0.108696\n16       (178)  (177, 176)  0.108696\n17       (176)  (177, 178)  0.108696"
          },
          "metadata": {}
        }
      ]
    },
    {
      "metadata": {
        "trusted": true
      },
      "cell_type": "code",
      "source": "",
      "execution_count": null,
      "outputs": []
    }
  ],
  "metadata": {
    "kernelspec": {
      "name": "python36",
      "display_name": "Python 3.6",
      "language": "python"
    },
    "language_info": {
      "mimetype": "text/x-python",
      "nbconvert_exporter": "python",
      "name": "python",
      "pygments_lexer": "ipython3",
      "version": "3.6.6",
      "file_extension": ".py",
      "codemirror_mode": {
        "version": 3,
        "name": "ipython"
      }
    }
  },
  "nbformat": 4,
  "nbformat_minor": 2
}